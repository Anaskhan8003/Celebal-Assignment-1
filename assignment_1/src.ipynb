{
 "cells": [
  {
   "cell_type": "markdown",
   "id": "d4f9ba6c",
   "metadata": {},
   "source": [
    "### Print traingle pattern\n",
    "### ***************"
   ]
  },
  {
   "cell_type": "code",
   "execution_count": 1,
   "id": "be4ce1e4",
   "metadata": {},
   "outputs": [
    {
     "name": "stdout",
     "output_type": "stream",
     "text": [
      "***************\n"
     ]
    }
   ],
   "source": [
    "print(\"*\" *15)"
   ]
  }
 ],
 "metadata": {
  "kernelspec": {
   "display_name": ".venv",
   "language": "python",
   "name": "python3"
  },
  "language_info": {
   "codemirror_mode": {
    "name": "ipython",
    "version": 3
   },
   "file_extension": ".py",
   "mimetype": "text/x-python",
   "name": "python",
   "nbconvert_exporter": "python",
   "pygments_lexer": "ipython3",
   "version": "3.10.12"
  }
 },
 "nbformat": 4,
 "nbformat_minor": 5
}
